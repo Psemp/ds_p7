{
 "cells": [
  {
   "cell_type": "code",
   "execution_count": 12,
   "metadata": {},
   "outputs": [],
   "source": [
    "import os\n",
    "import sys\n",
    "import mlflow\n",
    "import warnings\n",
    "import time\n",
    "import json\n",
    "import shap\n",
    "import gc\n",
    "import subprocess\n",
    "\n",
    "import pandas as pd\n",
    "import seaborn as sns\n",
    "import numpy as np\n",
    "\n",
    "from hyperopt import fmin, tpe, hp, Trials, space_eval\n",
    "from matplotlib import pyplot as plt\n",
    "from dotenv import load_dotenv\n",
    "from xgboost import XGBClassifier\n",
    "from catboost import CatBoostClassifier\n",
    "from lightgbm import LGBMClassifier\n",
    "from sklearn.model_selection import train_test_split, GridSearchCV, cross_val_score\n",
    "from sklearn.metrics import classification_report\n",
    "\n",
    "sys.path.append(\"../\")\n",
    "\n",
    "from scripts.mlflow_functions import train_and_log\n",
    "from models.scorer import home_credit_scoring_fn, home_credit_scorer, hc_threshold_score\n",
    "\n",
    "load_dotenv()\n",
    "sns.color_palette('colorblind')\n",
    "plt.style.use('Solarize_Light2')\n",
    "\n",
    "# Setting default DPI, pulling it from dotenv if it exists, setting it on 100 if not\n",
    "\n",
    "try:\n",
    "    pc_dpi = int(os.getenv('DPI'))\n",
    "except TypeError:\n",
    "    pc_dpi = 100\n",
    "if pc_dpi is None:\n",
    "    pc_dpi = 100\n",
    "\n",
    "client = mlflow.MlflowClient(tracking_uri=os.path.abspath(\"../mlruns/\"))\n",
    "\n",
    "mlflow.set_tracking_uri(os.getenv(\"MLFLOW_TRACKING_URI\"))\n"
   ]
  },
  {
   "cell_type": "code",
   "execution_count": 2,
   "metadata": {},
   "outputs": [],
   "source": [
    "try:\n",
    "    mlflow.create_experiment(name=\"home_credit_model\")\n",
    "except mlflow.MlflowException:\n",
    "    mlflow.set_experiment(experiment_name=\"home_credit_model\")\n"
   ]
  },
  {
   "cell_type": "code",
   "execution_count": 3,
   "metadata": {},
   "outputs": [],
   "source": [
    "df_model = pd.read_pickle(filepath_or_buffer=\"../data/df_hc_nm.pkl\")\n"
   ]
  },
  {
   "cell_type": "code",
   "execution_count": 4,
   "metadata": {},
   "outputs": [
    {
     "data": {
      "text/html": [
       "<div>\n",
       "<style scoped>\n",
       "    .dataframe tbody tr th:only-of-type {\n",
       "        vertical-align: middle;\n",
       "    }\n",
       "\n",
       "    .dataframe tbody tr th {\n",
       "        vertical-align: top;\n",
       "    }\n",
       "\n",
       "    .dataframe thead th {\n",
       "        text-align: right;\n",
       "    }\n",
       "</style>\n",
       "<table border=\"1\" class=\"dataframe\">\n",
       "  <thead>\n",
       "    <tr style=\"text-align: right;\">\n",
       "      <th></th>\n",
       "      <th>TARGET</th>\n",
       "      <th>FLAG_OWN_CAR</th>\n",
       "      <th>FLAG_OWN_REALTY</th>\n",
       "      <th>CNT_CHILDREN</th>\n",
       "      <th>AMT_INCOME_TOTAL</th>\n",
       "      <th>AMT_CREDIT</th>\n",
       "      <th>AMT_ANNUITY</th>\n",
       "      <th>AMT_GOODS_PRICE</th>\n",
       "      <th>REGION_POPULATION_RELATIVE</th>\n",
       "      <th>DAYS_BIRTH</th>\n",
       "      <th>...</th>\n",
       "      <th>PREV_PRODUCT_COMBINATION_Cash X-Sell: low_mean</th>\n",
       "      <th>PREV_PRODUCT_COMBINATION_Cash X-Sell: middle_mean</th>\n",
       "      <th>PREV_PRODUCT_COMBINATION_POS household with interest_mean</th>\n",
       "      <th>PREV_PRODUCT_COMBINATION_POS household without interest_mean</th>\n",
       "      <th>PREV_PRODUCT_COMBINATION_POS industry with interest_mean</th>\n",
       "      <th>PREV_PRODUCT_COMBINATION_POS industry without interest_mean</th>\n",
       "      <th>PREV_PRODUCT_COMBINATION_POS mobile with interest_mean</th>\n",
       "      <th>PREV_PRODUCT_COMBINATION_POS mobile without interest_mean</th>\n",
       "      <th>PREV_PRODUCT_COMBINATION_POS other with interest_mean</th>\n",
       "      <th>PREV_number_applications</th>\n",
       "    </tr>\n",
       "  </thead>\n",
       "  <tbody>\n",
       "    <tr>\n",
       "      <th>0</th>\n",
       "      <td>0</td>\n",
       "      <td>0</td>\n",
       "      <td>0</td>\n",
       "      <td>0</td>\n",
       "      <td>202500.0</td>\n",
       "      <td>406597.5</td>\n",
       "      <td>24700.5</td>\n",
       "      <td>351000.0</td>\n",
       "      <td>0.018801</td>\n",
       "      <td>-9461</td>\n",
       "      <td>...</td>\n",
       "      <td>0.0</td>\n",
       "      <td>0.0</td>\n",
       "      <td>0.0</td>\n",
       "      <td>0.0</td>\n",
       "      <td>0.0</td>\n",
       "      <td>0.0</td>\n",
       "      <td>0.000000</td>\n",
       "      <td>0.0</td>\n",
       "      <td>1.0</td>\n",
       "      <td>1.0</td>\n",
       "    </tr>\n",
       "    <tr>\n",
       "      <th>26</th>\n",
       "      <td>0</td>\n",
       "      <td>0</td>\n",
       "      <td>0</td>\n",
       "      <td>0</td>\n",
       "      <td>112500.0</td>\n",
       "      <td>979992.0</td>\n",
       "      <td>27076.5</td>\n",
       "      <td>702000.0</td>\n",
       "      <td>0.018029</td>\n",
       "      <td>-18724</td>\n",
       "      <td>...</td>\n",
       "      <td>NaN</td>\n",
       "      <td>NaN</td>\n",
       "      <td>NaN</td>\n",
       "      <td>NaN</td>\n",
       "      <td>NaN</td>\n",
       "      <td>NaN</td>\n",
       "      <td>NaN</td>\n",
       "      <td>NaN</td>\n",
       "      <td>NaN</td>\n",
       "      <td>NaN</td>\n",
       "    </tr>\n",
       "    <tr>\n",
       "      <th>40</th>\n",
       "      <td>0</td>\n",
       "      <td>0</td>\n",
       "      <td>0</td>\n",
       "      <td>0</td>\n",
       "      <td>202500.0</td>\n",
       "      <td>1193580.0</td>\n",
       "      <td>35028.0</td>\n",
       "      <td>855000.0</td>\n",
       "      <td>0.025164</td>\n",
       "      <td>-17482</td>\n",
       "      <td>...</td>\n",
       "      <td>0.0</td>\n",
       "      <td>0.0</td>\n",
       "      <td>0.0</td>\n",
       "      <td>0.0</td>\n",
       "      <td>0.0</td>\n",
       "      <td>0.0</td>\n",
       "      <td>0.166667</td>\n",
       "      <td>0.0</td>\n",
       "      <td>0.0</td>\n",
       "      <td>6.0</td>\n",
       "    </tr>\n",
       "    <tr>\n",
       "      <th>42</th>\n",
       "      <td>0</td>\n",
       "      <td>0</td>\n",
       "      <td>1</td>\n",
       "      <td>0</td>\n",
       "      <td>135000.0</td>\n",
       "      <td>288873.0</td>\n",
       "      <td>16258.5</td>\n",
       "      <td>238500.0</td>\n",
       "      <td>0.007305</td>\n",
       "      <td>-13384</td>\n",
       "      <td>...</td>\n",
       "      <td>0.0</td>\n",
       "      <td>0.2</td>\n",
       "      <td>0.2</td>\n",
       "      <td>0.0</td>\n",
       "      <td>0.0</td>\n",
       "      <td>0.0</td>\n",
       "      <td>0.400000</td>\n",
       "      <td>0.0</td>\n",
       "      <td>0.0</td>\n",
       "      <td>5.0</td>\n",
       "    </tr>\n",
       "    <tr>\n",
       "      <th>45</th>\n",
       "      <td>1</td>\n",
       "      <td>0</td>\n",
       "      <td>0</td>\n",
       "      <td>1</td>\n",
       "      <td>90000.0</td>\n",
       "      <td>180000.0</td>\n",
       "      <td>9000.0</td>\n",
       "      <td>180000.0</td>\n",
       "      <td>0.009334</td>\n",
       "      <td>-7974</td>\n",
       "      <td>...</td>\n",
       "      <td>0.0</td>\n",
       "      <td>0.0</td>\n",
       "      <td>0.0</td>\n",
       "      <td>0.0</td>\n",
       "      <td>0.0</td>\n",
       "      <td>0.0</td>\n",
       "      <td>1.000000</td>\n",
       "      <td>0.0</td>\n",
       "      <td>0.0</td>\n",
       "      <td>2.0</td>\n",
       "    </tr>\n",
       "  </tbody>\n",
       "</table>\n",
       "<p>5 rows × 289 columns</p>\n",
       "</div>"
      ],
      "text/plain": [
       "    TARGET  FLAG_OWN_CAR  FLAG_OWN_REALTY  CNT_CHILDREN  AMT_INCOME_TOTAL  \\\n",
       "0        0             0                0             0          202500.0   \n",
       "26       0             0                0             0          112500.0   \n",
       "40       0             0                0             0          202500.0   \n",
       "42       0             0                1             0          135000.0   \n",
       "45       1             0                0             1           90000.0   \n",
       "\n",
       "    AMT_CREDIT  AMT_ANNUITY  AMT_GOODS_PRICE  REGION_POPULATION_RELATIVE  \\\n",
       "0     406597.5      24700.5         351000.0                    0.018801   \n",
       "26    979992.0      27076.5         702000.0                    0.018029   \n",
       "40   1193580.0      35028.0         855000.0                    0.025164   \n",
       "42    288873.0      16258.5         238500.0                    0.007305   \n",
       "45    180000.0       9000.0         180000.0                    0.009334   \n",
       "\n",
       "    DAYS_BIRTH  ...  PREV_PRODUCT_COMBINATION_Cash X-Sell: low_mean  \\\n",
       "0        -9461  ...                                             0.0   \n",
       "26      -18724  ...                                             NaN   \n",
       "40      -17482  ...                                             0.0   \n",
       "42      -13384  ...                                             0.0   \n",
       "45       -7974  ...                                             0.0   \n",
       "\n",
       "    PREV_PRODUCT_COMBINATION_Cash X-Sell: middle_mean  \\\n",
       "0                                                 0.0   \n",
       "26                                                NaN   \n",
       "40                                                0.0   \n",
       "42                                                0.2   \n",
       "45                                                0.0   \n",
       "\n",
       "    PREV_PRODUCT_COMBINATION_POS household with interest_mean  \\\n",
       "0                                                 0.0           \n",
       "26                                                NaN           \n",
       "40                                                0.0           \n",
       "42                                                0.2           \n",
       "45                                                0.0           \n",
       "\n",
       "    PREV_PRODUCT_COMBINATION_POS household without interest_mean  \\\n",
       "0                                                 0.0              \n",
       "26                                                NaN              \n",
       "40                                                0.0              \n",
       "42                                                0.0              \n",
       "45                                                0.0              \n",
       "\n",
       "    PREV_PRODUCT_COMBINATION_POS industry with interest_mean  \\\n",
       "0                                                 0.0          \n",
       "26                                                NaN          \n",
       "40                                                0.0          \n",
       "42                                                0.0          \n",
       "45                                                0.0          \n",
       "\n",
       "    PREV_PRODUCT_COMBINATION_POS industry without interest_mean  \\\n",
       "0                                                 0.0             \n",
       "26                                                NaN             \n",
       "40                                                0.0             \n",
       "42                                                0.0             \n",
       "45                                                0.0             \n",
       "\n",
       "    PREV_PRODUCT_COMBINATION_POS mobile with interest_mean  \\\n",
       "0                                            0.000000        \n",
       "26                                                NaN        \n",
       "40                                           0.166667        \n",
       "42                                           0.400000        \n",
       "45                                           1.000000        \n",
       "\n",
       "    PREV_PRODUCT_COMBINATION_POS mobile without interest_mean  \\\n",
       "0                                                 0.0           \n",
       "26                                                NaN           \n",
       "40                                                0.0           \n",
       "42                                                0.0           \n",
       "45                                                0.0           \n",
       "\n",
       "    PREV_PRODUCT_COMBINATION_POS other with interest_mean  \\\n",
       "0                                                 1.0       \n",
       "26                                                NaN       \n",
       "40                                                0.0       \n",
       "42                                                0.0       \n",
       "45                                                0.0       \n",
       "\n",
       "    PREV_number_applications  \n",
       "0                        1.0  \n",
       "26                       NaN  \n",
       "40                       6.0  \n",
       "42                       5.0  \n",
       "45                       2.0  \n",
       "\n",
       "[5 rows x 289 columns]"
      ]
     },
     "execution_count": 4,
     "metadata": {},
     "output_type": "execute_result"
    }
   ],
   "source": [
    "df_model.head()\n"
   ]
  },
  {
   "cell_type": "code",
   "execution_count": 5,
   "metadata": {},
   "outputs": [],
   "source": [
    "df_model.rename(columns={\"TARGET\": \"Loan_granted\"}, inplace=True)\n",
    "\n",
    "target_col = \"Loan_granted\"\n"
   ]
  },
  {
   "cell_type": "code",
   "execution_count": 6,
   "metadata": {},
   "outputs": [],
   "source": [
    "target_col = \"Loan_granted\"\n"
   ]
  },
  {
   "attachments": {},
   "cell_type": "markdown",
   "metadata": {},
   "source": [
    "# 1 : Modelisation and experimentation\n",
    "\n",
    "- Threshold optimization : The first xgboost run will be used to adjust the threshold of the scorer\n",
    "- Models : Ensemble methods, handle missing values and don't require scaling\n",
    "    - xGBoost\n",
    "    - CatBoost\n",
    "    - LightGBM\n",
    "- Optimization : Best method will be determined via benchmark\n",
    "    - GridSearchCV\n",
    "    - Hyperopt\n",
    "- Logging via MlFlow :\n",
    "    - Metrics\n",
    "    - Custom metric tuning\n",
    "    - AUROC, confusion matrix\n",
    "    - Global feature importance\n",
    "    - Model\n",
    "    - Method of undersampling\n",
    "    - Version (handling of nans.)\n",
    "\n",
    "<hr>\n"
   ]
  },
  {
   "cell_type": "code",
   "execution_count": 7,
   "metadata": {},
   "outputs": [],
   "source": [
    "# Splitting the data into training, validation and test sets\n",
    "X_train_val, X_test, y_train_val, y_test = train_test_split(\n",
    "    df_model.drop(columns=target_col),\n",
    "    df_model[target_col],\n",
    "    test_size=0.3,\n",
    "    random_state=123\n",
    "    )\n",
    "\n",
    "X_train, X_val, y_train, y_val = train_test_split(\n",
    "    X_train_val,\n",
    "    y_train_val,\n",
    "    test_size=0.25,\n",
    "    random_state=123\n",
    "    )\n"
   ]
  },
  {
   "attachments": {},
   "cell_type": "markdown",
   "metadata": {},
   "source": [
    "## 1.1 xGBoost"
   ]
  },
  {
   "attachments": {},
   "cell_type": "markdown",
   "metadata": {},
   "source": [
    "### Hyperopt optimization"
   ]
  },
  {
   "cell_type": "code",
   "execution_count": 8,
   "metadata": {},
   "outputs": [
    {
     "name": "stdout",
     "output_type": "stream",
     "text": [
      "100%|██████████| 20/20 [52:53<00:00, 158.65s/trial, best loss: 4.4020346503579955]\n",
      "Hyperopt search time: 3173.0253600419965 seconds.\n"
     ]
    }
   ],
   "source": [
    "xgb_param_space = {\n",
    "    \"n_estimators\": hp.choice(\"n_estimators\", np.arange(200, 800, 25, dtype=int)),\n",
    "    \"max_depth\": hp.choice(\"max_depth\", np.arange(3, 9, dtype=int)),\n",
    "    \"learning_rate\": hp.loguniform(\"learning_rate\", -7, -3),\n",
    "    \"min_child_weight\": hp.quniform(\"min_child_weight\", 1, 6, 0.1),\n",
    "    \"reg_alpha\": hp.loguniform(\"reg_alpha\", -6, -3),\n",
    "    \"reg_lambda\": hp.loguniform(\"reg_lambda\", -6, -3),\n",
    "    \"subsample\": hp.uniform(\"subsample\", 0.5, 0.9),\n",
    "    \"colsample_bytree\": hp.uniform(\"colsample_bytree\", 0.3, 0.9),\n",
    "    \"nthread\": -1\n",
    "}\n",
    "\n",
    "def objective(params):\n",
    "    model = XGBClassifier(\n",
    "        n_estimators=params[\"n_estimators\"],\n",
    "        max_depth=params[\"max_depth\"],\n",
    "        learning_rate=params[\"learning_rate\"],\n",
    "        min_child_weight=params[\"min_child_weight\"],\n",
    "        reg_alpha=params[\"reg_alpha\"],\n",
    "        reg_lambda=params[\"reg_lambda\"],\n",
    "        subsample=params[\"subsample\"],\n",
    "        colsample_bytree=params[\"colsample_bytree\"],\n",
    "        nthread=params[\"nthread\"]\n",
    "    )\n",
    "    scores = cross_val_score(model, X_train, y_train, cv=5, scoring=home_credit_scorer)\n",
    "    loss = -np.mean(scores)\n",
    "    return {\"loss\": loss, \"status\": \"ok\"}\n",
    "\n",
    "\n",
    "trials = Trials()\n",
    "\n",
    "time_start_hopt = time.perf_counter()\n",
    "best = fmin(objective, space=xgb_param_space, algo=tpe.suggest, max_evals=20, trials=trials)\n",
    "time_end_hopt = time.perf_counter()\n",
    "\n",
    "print(f\"Hyperopt search time: {time_end_hopt - time_start_hopt} seconds.\")\n"
   ]
  },
  {
   "cell_type": "code",
   "execution_count": 9,
   "metadata": {},
   "outputs": [
    {
     "name": "stdout",
     "output_type": "stream",
     "text": [
      "{'colsample_bytree': 0.778655523535136, 'learning_rate': 0.0054998702766629335, 'max_depth': 6, 'min_child_weight': 2.0, 'n_estimators': 700, 'nthread': -1, 'reg_alpha': 0.037071627790320846, 'reg_lambda': 0.006294264780463717, 'subsample': 0.8644766597785274}\n"
     ]
    }
   ],
   "source": [
    "best_params_xgb = space_eval(xgb_param_space, best)\n",
    "gc.collect()\n",
    "print(best_params_xgb)\n"
   ]
  },
  {
   "cell_type": "code",
   "execution_count": 14,
   "metadata": {},
   "outputs": [
    {
     "name": "stderr",
     "output_type": "stream",
     "text": [
      "ntree_limit is deprecated, use `iteration_range` or model slicing instead.\n",
      "No data for colormapping provided via 'c'. Parameters 'vmin', 'vmax' will be ignored\n",
      "eval_metric is not saved in Scikit-Learn meta.\n",
      "Successfully registered model 'xgboost_best_hyperopt'.\n",
      "2023/03/05 19:17:15 INFO mlflow.tracking._model_registry.client: Waiting up to 300 seconds for model version to finish creation.                     Model name: xgboost_best_hyperopt, version 1\n",
      "Created version '1' of model 'xgboost_best_hyperopt'.\n",
      "Registered model 'xgboost_best_hyperopt' already exists. Creating a new version of this model...\n",
      "2023/03/05 19:17:15 INFO mlflow.tracking._model_registry.client: Waiting up to 300 seconds for model version to finish creation.                     Model name: xgboost_best_hyperopt, version 2\n",
      "Created version '2' of model 'xgboost_best_hyperopt'.\n"
     ]
    }
   ],
   "source": [
    "mlflow.set_experiment(experiment_name=\"home_credit_model\")\n",
    "\n",
    "best_params_xgb_log = {\n",
    "    \"colsample_bytree\": 0.778655523535136,\n",
    "    \"learning_rate\": 0.0054998702766629335,\n",
    "    \"max_depth\": 6,\n",
    "    \"min_child_weight\": 2.0,\n",
    "    \"n_estimators\": 700,\n",
    "    \"reg_alpha\": 0.037071627790320846,\n",
    "    \"reg_lambda\": 0.006294264780463717,\n",
    "    \"subsample\": 0.8644766597785274\n",
    "    }\n",
    "\n",
    "xgb_metrics, xgb_clf = train_and_log(\n",
    "    estimator=XGBClassifier,\n",
    "    X_train=X_train,\n",
    "    X_test=X_test,\n",
    "    y_train=y_train,\n",
    "    y_test=y_test,\n",
    "    dataset_version=\"nans_kept_shap_reduced\",\n",
    "    imb_method=\"near_miss_one\",\n",
    "    na_thresh=0,\n",
    "    params=best_params_xgb_log,\n",
    "    model_name=\"xgboost_best_hyperopt\",\n",
    ")\n"
   ]
  },
  {
   "cell_type": "code",
   "execution_count": 11,
   "metadata": {},
   "outputs": [
    {
     "name": "stdout",
     "output_type": "stream",
     "text": [
      "Score: 0.9999999999756928\n"
     ]
    }
   ],
   "source": [
    "# There might be overfitting, we will try and adjust it\n",
    "\n",
    "y_proba = xgb_clf.predict_proba(X_val)\n",
    "\n",
    "optimal_threshold = hc_threshold_score(y_val, y_proba)\n",
    "\n",
    "y_pred = (y_proba[:, 1] >= optimal_threshold).astype(int)\n",
    "\n",
    "score = home_credit_scoring_fn(y_val, y_pred)\n",
    "print(\"Score:\", score)\n"
   ]
  },
  {
   "cell_type": "code",
   "execution_count": 13,
   "metadata": {},
   "outputs": [
    {
     "name": "stdout",
     "output_type": "stream",
     "text": [
      "Validation score: 0.9999999999756928\n",
      "              precision    recall  f1-score   support\n",
      "\n",
      "           0       0.86      0.78      0.82      4270\n",
      "           1       0.80      0.87      0.84      4412\n",
      "\n",
      "    accuracy                           0.83      8682\n",
      "   macro avg       0.83      0.83      0.83      8682\n",
      "weighted avg       0.83      0.83      0.83      8682\n",
      "\n"
     ]
    }
   ],
   "source": [
    "# Double checking the high AUC with classification report\n",
    "\n",
    "y_val_proba = xgb_clf.predict_proba(X_val)\n",
    "y_val_pred = xgb_clf.predict(X_val)\n",
    "\n",
    "report = classification_report(y_val, y_val_pred)\n",
    "val_score = home_credit_scoring_fn(y_val, y_pred)\n",
    "\n",
    "print(f\"Validation score: {val_score}\")\n",
    "print(report)\n"
   ]
  },
  {
   "attachments": {},
   "cell_type": "markdown",
   "metadata": {},
   "source": [
    "### Observations :\n",
    "With an AUC of .881, it might be considered that the model is overfitting - or the fact that the competition is quite old in a machine learning POV might explain why xGboost is having such high performances."
   ]
  },
  {
   "attachments": {},
   "cell_type": "markdown",
   "metadata": {},
   "source": [
    "## 1.2 : Catboost :"
   ]
  },
  {
   "cell_type": "code",
   "execution_count": 17,
   "metadata": {},
   "outputs": [
    {
     "name": "stdout",
     "output_type": "stream",
     "text": [
      "100%|██████████| 20/20 [15:52<00:00, 47.64s/trial, best loss: 4.456355812927407]\n",
      "Hyperopt search time: 952.6465441250475 seconds.\n"
     ]
    }
   ],
   "source": [
    "catboost_param_space = {\n",
    "    \"iterations\": hp.choice(\"iterations\", np.arange(200, 800, 25, dtype=int)),\n",
    "    \"depth\": hp.choice(\"depth\", np.arange(3, 9, dtype=int)),\n",
    "    \"learning_rate\": hp.loguniform(\"learning_rate\", -7, -3),\n",
    "    \"l2_leaf_reg\": hp.loguniform(\"l2_leaf_reg\", -6, -3),\n",
    "    \"subsample\": hp.uniform(\"subsample\", 0.5, 0.9),\n",
    "    \"colsample_bylevel\": hp.uniform(\"colsample_bylevel\", 0.3, 0.9),\n",
    "    \"thread_count\": -1\n",
    "    }\n",
    "\n",
    "\n",
    "def objective_cb(params):\n",
    "    model = CatBoostClassifier(\n",
    "        iterations=params[\"iterations\"],\n",
    "        depth=params[\"depth\"],\n",
    "        subsample=params[\"subsample\"],\n",
    "        colsample_bylevel=params[\"colsample_bylevel\"],\n",
    "        learning_rate=params[\"learning_rate\"],\n",
    "        l2_leaf_reg=params[\"l2_leaf_reg\"],\n",
    "        verbose=False,\n",
    "    )\n",
    "    model.fit(X_train, y_train, eval_set=(X_val, y_val), verbose=False)\n",
    "    scores = cross_val_score(model, X_train, y_train, cv=5, scoring=home_credit_scorer)\n",
    "    loss = -np.mean(scores)\n",
    "    return {\"loss\": loss, \"status\": \"ok\"}\n",
    "\n",
    "trials = Trials()\n",
    "\n",
    "time_start_hopt = time.perf_counter()\n",
    "best_cb = fmin(objective_cb, space=catboost_param_space, algo=tpe.suggest, max_evals=20, trials=trials)\n",
    "time_end_hopt = time.perf_counter()\n",
    "\n",
    "print(f\"Hyperopt search time: {time_end_hopt - time_start_hopt} seconds.\")\n"
   ]
  },
  {
   "cell_type": "code",
   "execution_count": 18,
   "metadata": {},
   "outputs": [
    {
     "name": "stdout",
     "output_type": "stream",
     "text": [
      "{'colsample_bylevel': 0.8492535750204921, 'depth': 7, 'iterations': 700, 'l2_leaf_reg': 0.011953394749318379, 'learning_rate': 0.018551685647746795, 'subsample': 0.8297130817489142, 'thread_count': -1}\n"
     ]
    }
   ],
   "source": [
    "best_params_cb = space_eval(catboost_param_space, best_cb)\n",
    "print(best_params_cb)\n"
   ]
  },
  {
   "cell_type": "code",
   "execution_count": 20,
   "metadata": {},
   "outputs": [
    {
     "name": "stderr",
     "output_type": "stream",
     "text": [
      "No data for colormapping provided via 'c'. Parameters 'vmin', 'vmax' will be ignored\n",
      "Successfully registered model 'catboost_cvalidated'.\n",
      "2023/03/05 19:44:47 INFO mlflow.tracking._model_registry.client: Waiting up to 300 seconds for model version to finish creation.                     Model name: catboost_cvalidated, version 1\n",
      "Created version '1' of model 'catboost_cvalidated'.\n",
      "Registered model 'catboost_cvalidated' already exists. Creating a new version of this model...\n",
      "2023/03/05 19:44:47 INFO mlflow.tracking._model_registry.client: Waiting up to 300 seconds for model version to finish creation.                     Model name: catboost_cvalidated, version 2\n",
      "Created version '2' of model 'catboost_cvalidated'.\n"
     ]
    }
   ],
   "source": [
    "mlflow.set_experiment(experiment_name=\"home_credit_model\")\n",
    "\n",
    "best_params_cb_log = {\n",
    "    \"colsample_bylevel\": 0.8492535750204921,\n",
    "    \"depth\": 7,\n",
    "    \"iterations\": 700,\n",
    "    \"l2_leaf_reg\": 0.011953394749318379,\n",
    "    \"learning_rate\": 0.018551685647746795,\n",
    "    \"subsample\": 0.8297130817489142,\n",
    "    \"verbose\": False\n",
    "    }\n",
    "\n",
    "cb_metrics, cb_clf = train_and_log(\n",
    "    estimator=CatBoostClassifier,\n",
    "    X_train=X_train,\n",
    "    X_test=X_test,\n",
    "    y_train=y_train,\n",
    "    y_test=y_test,\n",
    "    dataset_version=\"nans_kept_shap_reduced\",\n",
    "    imb_method=\"near_miss_one\",\n",
    "    na_thresh=0,\n",
    "    params=best_params_cb_log,\n",
    "    model_name=\"catboost_cvalidated\",\n",
    ")\n"
   ]
  },
  {
   "cell_type": "code",
   "execution_count": 22,
   "metadata": {},
   "outputs": [
    {
     "name": "stdout",
     "output_type": "stream",
     "text": [
      "Validation score: 0.9999999999756928\n",
      "              precision    recall  f1-score   support\n",
      "\n",
      "           0       0.86      0.79      0.83      4270\n",
      "           1       0.82      0.88      0.85      4412\n",
      "\n",
      "    accuracy                           0.84      8682\n",
      "   macro avg       0.84      0.84      0.84      8682\n",
      "weighted avg       0.84      0.84      0.84      8682\n",
      "\n"
     ]
    }
   ],
   "source": [
    "# Double checking the high AUC with classification report\n",
    "\n",
    "y_val_proba_cb = cb_clf.predict_proba(X_val)\n",
    "y_val_pred_cb = cb_clf.predict(X_val)\n",
    "\n",
    "report_cb = classification_report(y_val, y_val_pred_cb)\n",
    "val_score_cb = home_credit_scoring_fn(y_val, y_pred)\n",
    "\n",
    "print(f\"Validation score: {val_score_cb}\")\n",
    "print(report_cb)\n"
   ]
  },
  {
   "attachments": {},
   "cell_type": "markdown",
   "metadata": {},
   "source": [
    "##### The problem of our generic function doesnt account for catboost specific scoring args, will be addressed at the end of the nb by defining again the functions imported for mlflow_function"
   ]
  }
 ],
 "metadata": {
  "kernelspec": {
   "display_name": "env",
   "language": "python",
   "name": "python3"
  },
  "language_info": {
   "codemirror_mode": {
    "name": "ipython",
    "version": 3
   },
   "file_extension": ".py",
   "mimetype": "text/x-python",
   "name": "python",
   "nbconvert_exporter": "python",
   "pygments_lexer": "ipython3",
   "version": "3.10.4"
  },
  "orig_nbformat": 4,
  "vscode": {
   "interpreter": {
    "hash": "1f9f7da73b2d32fbe22ce31010a2a5fa1f1b27bca24beb020adbdec8ec097b23"
   }
  }
 },
 "nbformat": 4,
 "nbformat_minor": 2
}
